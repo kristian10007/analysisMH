{
 "cells": [
  {
   "cell_type": "code",
   "execution_count": null,
   "metadata": {
    "scrolled": true
   },
   "outputs": [],
   "source": [
    "import os\n",
    "import numpy as np\n",
    "import pandas as pd\n",
    "import matplotlib.pyplot as plt\n",
    "import random\n",
    "from sklearn.neighbors import NearestNeighbors\n",
    "import math\n",
    "import seaborn as sns\n",
    "from sklearn.cluster import DBSCAN\n",
    "import random\n",
    "from scipy import ndarray\n",
    "from matplotlib import pyplot as plt\n",
    "from scipy.spatial import distance\n",
    "import umap.umap_ as umap\n",
    "from sklearn.cluster import KMeans\n",
    "import pickle as pkl\n",
    "from scipy import stats\n",
    "from scipy.stats import ranksums\n",
    "from config import *\n",
    "from tools import *"
   ]
  },
  {
   "cell_type": "code",
   "execution_count": null,
   "metadata": {
    "scrolled": true
   },
   "outputs": [],
   "source": [
    "%config InlineBackend.figure_format = 'svg'"
   ]
  },
  {
   "cell_type": "code",
   "execution_count": null,
   "metadata": {},
   "outputs": [],
   "source": [
    "imagesPath = \"images/cluster_hypothesis_testing\"\n",
    "ensureDir(\"images\")\n",
    "ensureDir(imagesPath)"
   ]
  },
  {
   "cell_type": "code",
   "execution_count": null,
   "metadata": {
    "scrolled": true
   },
   "outputs": [],
   "source": [
    "data=pd.read_csv(fileName_csv_preprocessed, index_col=0)"
   ]
  },
  {
   "cell_type": "code",
   "execution_count": null,
   "metadata": {},
   "outputs": [],
   "source": [
    "all_patient_ids = [0 for _ in range(1 + max(list(data[\"Patientennummer\"].index)))]\n",
    "for k in data[\"Patientennummer\"].index:\n",
    "    all_patient_ids[k] = data['Patientennummer'][k]\n",
    "\n",
    "all_patient_ids = np.array(all_patient_ids)\n",
    "all_patient_ids\n",
    "\n",
    "data = data.drop([\"Patientennummer\"],axis=1)\n",
    "\n",
    "updateMissingColumns(data)"
   ]
  },
  {
   "cell_type": "code",
   "execution_count": null,
   "metadata": {
    "scrolled": false
   },
   "outputs": [],
   "source": [
    "list(data.columns)"
   ]
  },
  {
   "cell_type": "code",
   "execution_count": null,
   "metadata": {},
   "outputs": [],
   "source": [
    "len(data.columns)"
   ]
  },
  {
   "cell_type": "code",
   "execution_count": null,
   "metadata": {
    "scrolled": true
   },
   "outputs": [],
   "source": [
    "len(cont_features)+len(nom_features)+len(ord_features)"
   ]
  },
  {
   "cell_type": "code",
   "execution_count": null,
   "metadata": {
    "scrolled": true
   },
   "outputs": [],
   "source": [
    "with open(fileName_final_cluser_indexes, 'rb') as f:\n",
    "    final_cluser_indexes = np.load(f,allow_pickle=True)"
   ]
  },
  {
   "cell_type": "code",
   "execution_count": null,
   "metadata": {
    "scrolled": false
   },
   "outputs": [],
   "source": [
    "final_cluser_indexes"
   ]
  },
  {
   "cell_type": "code",
   "execution_count": null,
   "metadata": {
    "scrolled": true
   },
   "outputs": [],
   "source": [
    "cluster_1 = data.loc[final_cluser_indexes[0]]\n",
    "cluster_2 = data.loc[final_cluser_indexes[1]]\n",
    "cluster_3 = data.loc[final_cluser_indexes[2]]\n",
    "cluster_4 = data.loc[final_cluser_indexes[3]]\n",
    "cluster_5 = data.loc[final_cluser_indexes[4]]"
   ]
  },
  {
   "cell_type": "markdown",
   "metadata": {},
   "source": [
    "new_column_names=[ 'KHK ', 'Herzerkrankung', 'pAVK', 'COPD/Asthma', 'Immunologische Erkrankungen', 'Malignom vor OP','Diabetes mellitus',\n",
    "       'Hypertonie', 'Diabetes Folgeschäden ', 'klinisches Grading', 'NTx-Anzahl',\n",
    "       'Immunologisches Grading', 'Grund für TX', 'Geburten und co. Ja/nein',\n",
    "       'Transfusionen in der Vergangenheit', 'Dauer in Minuten',\n",
    "       'Dialysezeit (Tage)', 'm = 1 ; f = 0', 'ZAHL Empfänger(CMV positiv=1)',\n",
    "       'donor m = 1 ; f = 0', 'Blutgruppe  Spender', \n",
    "       'Donor CMV Positiv  = 1', 'Todspende',\n",
    "       'Todesursache', 'HLA A Mismatch', 'HLA B Mismatch',\n",
    "       'HLA DR Mismatch', 'Biospie ja/nein', 'erste Ausfuhr am:',\n",
    "       'Ausfuhr bei Entlassung (ml)',\n",
    "       'Kreatinin bei Entlassung (ymol/l)', '2 Wochen post OP', '3 Monate post OP ymol/l',\n",
    "       '1 Jahr post OP', 'GFR_bei_Entlassung ', 'GFR_2Wochen_postOP',\n",
    "       'GFR_3_Monate_post_OP', 'GFR_1_Jahr_post_OP', 'Abstoßungsreaktion', 'Banff',\n",
    "       'Grad', 'HWI',\n",
    "       'Atemwegsinfekt', 'M-D-T', 'Sepsis',\n",
    "       'CMV', 'Pilzinfektion', 'Virusinfektionen',\n",
    "       'Wundheilungsstörung', 'Katheterinfektion', 'Sonstige', 'Infektionen', 'Malignome nach OP', 'Explantation',\n",
    "       'Revisions OP', 'post OP Dialyse ja/nein', 'dialysefrei ja/nein', 'WIZ',\n",
    "       '(High risk drug;) Immunadsoprtionstherapie ','(High risk drug)  Rituximab/ Immunglobuline', 'MMF',\n",
    "       'Everolimus', 'Sirolimus', 'Azathioprin','Prednisolon', 'Basiliximab (Simulect)',\n",
    "       'ATG (Antithymozytenglobulin)', 'Urbanstoßtherapie',\n",
    "       'Prograf+Cellcept', 'Prograf+Myfortic',\n",
    "       'Cellcept+CyA', 'Cellcept+Myfortic', 'Cell. --> Myfortic', 'Konversion auf andere',\n",
    "       'Tacrolimus Spiegel Nachkontrolle',\n",
    "       'Cyc Spiegel bei Entlassung (yg/l)', 'Cyc Spiegel bei Nachsorge',\n",
    "        'Blutgruppe Empfänger', 'Range_Gestorben', 'Range_Explantation','Rh Compatibility',\n",
    "       'MaFr1FrMa2FrFr3MaMa4', 'TC_switch',\n",
    "       'Tacrolimus Spiegel bei Entlassung (ng/ml)',\n",
    "       'Alter bei Tx', 'BMI Empfänger', 'BMI Spender','Clusters']\n",
    "zip_iterator = zip(list(data.columns), new_column_names)\n",
    "feat_names_dict = dict(zip_iterator)\n",
    "feat_names_dict"
   ]
  },
  {
   "cell_type": "code",
   "execution_count": null,
   "metadata": {
    "scrolled": true
   },
   "outputs": [],
   "source": [
    "def p_val(clustera,clusterb,feature,var_type):\n",
    "    if var_type=='cont':\n",
    "        p=stats.ttest_ind(np.array(clustera[feature]), np.array(clusterb[feature])).pvalue\n",
    "    else:\n",
    "        p=ranksums(np.array(clustera[feature]), np.array(clusterb[feature])).pvalue\n",
    "    return p"
   ]
  },
  {
   "cell_type": "code",
   "execution_count": null,
   "metadata": {
    "scrolled": true
   },
   "outputs": [],
   "source": [
    "cluster_list=[cluster_1,cluster_2,cluster_3,cluster_4,cluster_5]\n",
    "def feature_p_val(feature,cluster_list,var_type):\n",
    "    num_clusters=len(cluster_list)\n",
    "    p_list_all_clusters=[]\n",
    "    for i in range(num_clusters):\n",
    "        p_list=[]\n",
    "        for j in range(num_clusters):\n",
    "            p=p_val(cluster_list[i],cluster_list[j],feature,var_type)\n",
    "            p_list.append(p)\n",
    "        p_list=np.array(p_list)\n",
    "        p_list_all_clusters.append(p_list)  \n",
    "    return(np.array(p_list_all_clusters))\n",
    "        "
   ]
  },
  {
   "cell_type": "code",
   "execution_count": null,
   "metadata": {
    "scrolled": true
   },
   "outputs": [],
   "source": [
    "import matplotlib as mpl\n",
    "\n",
    "class MidpointNormalize(mpl.colors.Normalize):\n",
    "    def __init__(self, vmin, vmax, midpoint=0, clip=False):\n",
    "        self.midpoint = midpoint\n",
    "        mpl.colors.Normalize.__init__(self, vmin, vmax, clip)\n",
    "\n",
    "    def __call__(self, value, clip=None):\n",
    "        normalized_min = max(0, 1 / 2 * (1 - abs((self.midpoint - self.vmin) / (self.midpoint - self.vmax))))\n",
    "        normalized_max = min(1, 1 / 2 * (1 + abs((self.vmax - self.midpoint) / (self.midpoint - self.vmin))))\n",
    "        normalized_mid = 0.5\n",
    "        x, y = [self.vmin, self.midpoint, self.vmax], [normalized_min, normalized_mid, normalized_max]\n",
    "        return np.ma.masked_array(np.interp(value, x, y))\n"
   ]
  },
  {
   "cell_type": "code",
   "execution_count": null,
   "metadata": {
    "scrolled": true
   },
   "outputs": [],
   "source": [
    "def p_map(feature, var_type, n):\n",
    "    heatmap, ax = plt.subplots()\n",
    "    norm = MidpointNormalize(vmin=0, vmax=1, midpoint=0.5)\n",
    "    im = ax.imshow(feature_p_val(feature,cluster_list,var_type), cmap='coolwarm', norm=norm)\n",
    "    ax.set_xticklabels(['','C1','C2','C3','C4','C5'])\n",
    "    ax.set_yticklabels(['','C1','C2','C3','C4','C5'])\n",
    "\n",
    "    for y in range(len(cluster_list)):\n",
    "        for x in range(len(cluster_list)):\n",
    "            plt.text(x , y , '%.2f' % feature_p_val(feature,cluster_list, var_type)[y, x], horizontalalignment='center',verticalalignment='center')\n",
    "\n",
    "    cbar = heatmap.colorbar(im)\n",
    "    cbar.ax.set_ylabel('p-value')\n",
    "    plt.title(feature, fontsize=8)\n",
    "    plt.savefig(f'{imagesPath}/{var_type}_{n}_{safeFilename(feature)}.pdf', dpi=700, bbox_inches='tight')\n",
    "    plt.close()"
   ]
  },
  {
   "cell_type": "code",
   "execution_count": null,
   "metadata": {
    "scrolled": true
   },
   "outputs": [],
   "source": [
    "for n, feature in enumerate(cont_features):\n",
    "    p_map(feature, 'cont', n + 1)"
   ]
  },
  {
   "cell_type": "code",
   "execution_count": null,
   "metadata": {
    "scrolled": true
   },
   "outputs": [],
   "source": [
    "for n, feature in enumerate(ord_features):\n",
    "    p_map(feature, 'ord', n + 1)"
   ]
  },
  {
   "cell_type": "code",
   "execution_count": null,
   "metadata": {
    "scrolled": true
   },
   "outputs": [],
   "source": [
    "for n, feature in enumerate(nom_features):\n",
    "    p_map(feature, 'nom', n + 1)"
   ]
  },
  {
   "cell_type": "code",
   "execution_count": null,
   "metadata": {},
   "outputs": [],
   "source": []
  }
 ],
 "metadata": {
  "interpreter": {
   "hash": "40d3a090f54c6569ab1632332b64b2c03c39dcf918b08424e98f38b5ae0af88f"
  },
  "kernelspec": {
   "display_name": "Python 3 (ipykernel)",
   "language": "python",
   "name": "python3"
  },
  "language_info": {
   "codemirror_mode": {
    "name": "ipython",
    "version": 3
   },
   "file_extension": ".py",
   "mimetype": "text/x-python",
   "name": "python",
   "nbconvert_exporter": "python",
   "pygments_lexer": "ipython3",
   "version": "3.10.10"
  }
 },
 "nbformat": 4,
 "nbformat_minor": 2
}
