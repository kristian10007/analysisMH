{
 "cells": [
  {
   "cell_type": "code",
   "execution_count": null,
   "metadata": {},
   "outputs": [],
   "source": [
    "import os\n",
    "import math\n",
    "import numpy as np\n",
    "import pandas as pd\n",
    "import matplotlib.pyplot as plt\n",
    "import random\n",
    "from sklearn.neighbors import NearestNeighbors\n",
    "import math\n",
    "import seaborn as sns\n",
    "from sklearn.cluster import DBSCAN\n",
    "import random\n",
    "from scipy import ndarray\n",
    "from scipy.spatial import distance\n",
    "import umap.umap_ as umap\n",
    "from sklearn.ensemble import GradientBoostingClassifier\n",
    "from sklearn.ensemble import GradientBoostingRegressor\n",
    "from scipy.stats import uniform as sp_randFloat\n",
    "from scipy.stats import randint as sp_randInt\n",
    "from sklearn.model_selection import train_test_split\n",
    "from sklearn.model_selection import RandomizedSearchCV\n",
    "from sklearn.metrics import confusion_matrix\n",
    "from imblearn.over_sampling import SMOTE\n",
    "from sklearn.metrics import precision_recall_curve\n",
    "from sklearn.metrics import auc\n",
    "from sklearn.metrics import f1_score\n",
    "from imblearn.metrics import geometric_mean_score\n",
    "from sklearn.model_selection import train_test_split\n",
    "from sklearn.metrics import roc_curve\n",
    "from sklearn.metrics import roc_auc_score\n",
    "from sklearn.model_selection import cross_validate\n",
    "from sklearn.decomposition import PCA\n",
    "from sklearn.model_selection import KFold\n",
    "from sklearn.neighbors import KNeighborsClassifier\n",
    "from sklearn.feature_selection import RFE\n",
    "from sklearn.model_selection import cross_val_score\n",
    "from sklearn.inspection import (partial_dependence, \n",
    "                                PartialDependenceDisplay)\n",
    "from config import *\n",
    "from tools import *"
   ]
  },
  {
   "cell_type": "code",
   "execution_count": null,
   "metadata": {},
   "outputs": [],
   "source": [
    "import warnings\n",
    "warnings.filterwarnings(\"ignore\", \"X has feature names, but KNeighborsClassifier was fitted without feature names\")"
   ]
  },
  {
   "cell_type": "code",
   "execution_count": null,
   "metadata": {},
   "outputs": [],
   "source": [
    "imagesPath = \"images/Classification\"\n",
    "ensureDir(\"images\")\n",
    "ensureDir(imagesPath)\n",
    "ensureDir(imagesPath + \"/pdp\")\n",
    "ensureDir(imagesPath + \"/pdp_TC\")\n",
    "ensureDir(imagesPath + \"/pdp_Cyc\")"
   ]
  },
  {
   "cell_type": "code",
   "execution_count": null,
   "metadata": {},
   "outputs": [],
   "source": [
    "%config InlineBackend.figure_format = 'svg'"
   ]
  },
  {
   "cell_type": "code",
   "execution_count": null,
   "metadata": {},
   "outputs": [],
   "source": [
    "data=pd.read_csv(fileName_csv_preprocessed, index_col=0)"
   ]
  },
  {
   "cell_type": "code",
   "execution_count": null,
   "metadata": {},
   "outputs": [],
   "source": [
    "data.shape"
   ]
  },
  {
   "cell_type": "code",
   "execution_count": null,
   "metadata": {},
   "outputs": [],
   "source": [
    "drops = [ c_Patientennummer\n",
    "        , c_1_Jahr_post_OP\n",
    "        , c_2_Wochen_post_OP\n",
    "        , c_3_Monate_post_OP\n",
    "        , c_Abstossungsreaktion\n",
    "        , c_Atemwegsinfekt\n",
    "        , c_ATG\n",
    "        , c_Ausfuhr_bei_Entlassung\n",
    "        , c_Azathioprin\n",
    "        , c_Banff\n",
    "        , c_Basiliximab_Simulect\n",
    "        , c_Biospie\n",
    "        , c_Cell_Myfortic\n",
    "        , c_Cellcept_CyA\n",
    "        , c_CMV\n",
    "        , c_Cyc_Spiegel_bei_Entlassung\n",
    "        , c_Cyc_Spiegel_bei_Nachsorge\n",
    "        , c_dialysefrei\n",
    "        , c_erste_Ausfuhr_am\n",
    "        , c_Everolimus\n",
    "        , c_Explantation\n",
    "        #, 'GFR_bei_Entlassung '\n",
    "        #, 'GFR_2Wochen_postOP'\n",
    "        #, 'GFR_3_Monate_post_OP'\n",
    "        #, 'GFR_1_Jahr_post_OP'\n",
    "        , c_Grad\n",
    "        , c_HWI\n",
    "        , c_Immunadsoprtionstherapie\n",
    "        #, 'Infektionen'\n",
    "        , c_Katheterinfektion\n",
    "        , c_Kreatinin_bei_Entlassung\n",
    "        , c_Konversion_auf_andere\n",
    "        , c_Malignom_nach_OP\n",
    "        , c_MDT\n",
    "        , c_MMF\n",
    "        , c_Pilzinfektion\n",
    "        , c_post_OP_Dialysen\n",
    "        , c_Prednisolon\n",
    "        , c_Prograf_Cellcept\n",
    "        , c_Prograf_Myfortic\n",
    "        , c_Range_Explantation\n",
    "        , c_Range_Gestorben\n",
    "        , c_Revisions_OP\n",
    "        #, '(High risk drug)  Rituximab/ Immunglobuline'\n",
    "        , c_Sepsis\n",
    "        , c_Sirolimus\n",
    "        , c_Sonstige\n",
    "        , c_Tacrolimus_Spiegel_bei_Entlassung\n",
    "        , c_Tacrolimus_Spiegel_Nachkontrolle\n",
    "        , c_TC_switch\n",
    "        , c_Urbanstosstherapie\n",
    "        , c_Virusinfektionen\n",
    "        , c_Wundheilungsstoerung\n",
    "        ]"
   ]
  },
  {
   "cell_type": "code",
   "execution_count": null,
   "metadata": {},
   "outputs": [],
   "source": [
    "df=data.drop(drops,axis=1)"
   ]
  },
  {
   "cell_type": "code",
   "execution_count": null,
   "metadata": {},
   "outputs": [],
   "source": [
    "for c in data.columns:\n",
    "    n = []\n",
    "    k = 0\n",
    "    for x in data[c]:\n",
    "        if x == np.nan or math.isnan(x):\n",
    "            n.append(k)\n",
    "        k += 1\n",
    "        \n",
    "    if n != []:\n",
    "        print(f\"'{c}': {n}'\")"
   ]
  },
  {
   "cell_type": "code",
   "execution_count": null,
   "metadata": {},
   "outputs": [],
   "source": [
    "X=np.array(df)"
   ]
  },
  {
   "cell_type": "markdown",
   "metadata": {},
   "source": [
    "## Analysis for switch between TC and Cyc"
   ]
  },
  {
   "cell_type": "code",
   "execution_count": null,
   "metadata": {},
   "outputs": [],
   "source": [
    "y_TC_switch=np.array(data[c_TC_switch])"
   ]
  },
  {
   "cell_type": "code",
   "execution_count": null,
   "metadata": {},
   "outputs": [],
   "source": [
    "np.unique(y_TC_switch, return_counts=True)"
   ]
  },
  {
   "cell_type": "code",
   "execution_count": null,
   "metadata": {},
   "outputs": [],
   "source": [
    "y_TC_switch_discretize=[]\n",
    "for i in y_TC_switch:\n",
    "    if i==0:\n",
    "        y_TC_switch_discretize.append(0)\n",
    "    else:\n",
    "        y_TC_switch_discretize.append(1)\n",
    "y_TC_switch_discretize=np.array(y_TC_switch_discretize)"
   ]
  },
  {
   "cell_type": "code",
   "execution_count": null,
   "metadata": {},
   "outputs": [],
   "source": [
    "np.unique(y_TC_switch_discretize, return_counts=True)"
   ]
  },
  {
   "cell_type": "code",
   "execution_count": null,
   "metadata": {
    "scrolled": false
   },
   "outputs": [],
   "source": [
    "pca = PCA()\n",
    "Xt = pca.fit_transform(X)\n",
    "plot = plt.scatter(Xt[:,0], Xt[:,1], c=y_TC_switch_discretize, s=4)\n",
    "plt.savefig(imagesPath + \"/pca_y_TC_switch_discretize.pdf\")\n",
    "plt.close()"
   ]
  },
  {
   "cell_type": "code",
   "execution_count": null,
   "metadata": {},
   "outputs": [],
   "source": [
    "X_train, X_test, y_train, y_test = train_test_split(X, y_TC_switch_discretize, test_size=0.30, random_state=42)"
   ]
  },
  {
   "cell_type": "code",
   "execution_count": null,
   "metadata": {},
   "outputs": [],
   "source": [
    "X_train.shape"
   ]
  },
  {
   "cell_type": "code",
   "execution_count": null,
   "metadata": {},
   "outputs": [],
   "source": [
    "def score_model(model, params, cv=None):\n",
    "    \"\"\"\n",
    "    Creates folds manually, and upsamples within each fold.\n",
    "    Returns an array of validation (recall) scores\n",
    "    \"\"\"\n",
    "    if cv is None:\n",
    "        cv = KFold(n_splits=5, random_state=42)\n",
    "\n",
    "    # smoter = SMOTE(random_state=42, k_neighbors=30)\n",
    "    smoter = SMOTE(random_state=42, k_neighbors=25) # n_samples was smaler than k_keighbors\n",
    "    \n",
    "    scores = []\n",
    "\n",
    "    for train_fold_index, val_fold_index in cv.split(X_train, y_train):\n",
    "        # Get the training data\n",
    "        X_train_fold, y_train_fold = X_train[train_fold_index], y_train[train_fold_index]\n",
    "        # Get the validation data\n",
    "        X_val_fold, y_val_fold = X_train[val_fold_index], y_train[val_fold_index]\n",
    "\n",
    "        # Upsample only the data in the training section\n",
    "        X_train_fold_upsample, y_train_fold_upsample = smoter.fit_resample(X_train_fold,\n",
    "                                                                           y_train_fold)\n",
    "        # Fit the model on the upsampled training data\n",
    "        model_obj = model(**params).fit(X_train_fold_upsample, y_train_fold_upsample)\n",
    "        # Score the model on the (non-upsampled) validation data\n",
    "        score = geometric_mean_score(y_val_fold, model_obj.predict(X_val_fold))\n",
    "        scores.append(score)\n",
    "    return np.array(scores)"
   ]
  },
  {
   "cell_type": "code",
   "execution_count": null,
   "metadata": {},
   "outputs": [],
   "source": [
    "kf = KFold(n_splits=5, random_state=42, shuffle=True)"
   ]
  },
  {
   "cell_type": "code",
   "execution_count": null,
   "metadata": {},
   "outputs": [],
   "source": [
    "example_params = {\n",
    "    }"
   ]
  },
  {
   "cell_type": "markdown",
   "metadata": {},
   "source": [
    "#### trying cross validation with gradient boosting"
   ]
  },
  {
   "cell_type": "code",
   "execution_count": null,
   "metadata": {},
   "outputs": [],
   "source": [
    "CV_scores_GB=score_model(GradientBoostingClassifier, example_params, cv=kf)"
   ]
  },
  {
   "cell_type": "code",
   "execution_count": null,
   "metadata": {},
   "outputs": [],
   "source": [
    "CV_scores_GB"
   ]
  },
  {
   "cell_type": "code",
   "execution_count": null,
   "metadata": {},
   "outputs": [],
   "source": [
    "CV_scores_GB.std()"
   ]
  },
  {
   "cell_type": "markdown",
   "metadata": {},
   "source": [
    "We observe incosistent results across the five folds, thus model might be overfitting"
   ]
  },
  {
   "cell_type": "markdown",
   "metadata": {},
   "source": [
    "print('Cross Validated geometric mean:',CV_scores_GB.mean())"
   ]
  },
  {
   "cell_type": "markdown",
   "metadata": {},
   "source": [
    "#### trying cross validation with k-Nearest Neighbours, a simpler model"
   ]
  },
  {
   "cell_type": "code",
   "execution_count": null,
   "metadata": {},
   "outputs": [],
   "source": [
    "CV_scores_kNN=score_model(KNeighborsClassifier, example_params, cv=kf)"
   ]
  },
  {
   "cell_type": "code",
   "execution_count": null,
   "metadata": {},
   "outputs": [],
   "source": [
    "CV_scores_kNN"
   ]
  },
  {
   "cell_type": "code",
   "execution_count": null,
   "metadata": {},
   "outputs": [],
   "source": [
    "CV_scores_kNN.std()"
   ]
  },
  {
   "cell_type": "markdown",
   "metadata": {},
   "source": [
    "We observe more cosistent results across the five folds, thus kNN would be more reliable than GB"
   ]
  },
  {
   "cell_type": "code",
   "execution_count": null,
   "metadata": {},
   "outputs": [],
   "source": [
    "print('Cross Validated geometric mean:',CV_scores_kNN.mean())"
   ]
  },
  {
   "cell_type": "markdown",
   "metadata": {},
   "source": [
    "#### We therefore validate on the independent set with the kNN model"
   ]
  },
  {
   "cell_type": "code",
   "execution_count": null,
   "metadata": {},
   "outputs": [],
   "source": [
    "sm = SMOTE(random_state=42,k_neighbors=40)\n",
    "X_res, y_res = sm.fit_resample(X_train, y_train)"
   ]
  },
  {
   "cell_type": "code",
   "execution_count": null,
   "metadata": {},
   "outputs": [],
   "source": [
    "model=KNeighborsClassifier()\n",
    "model.fit(X_res,y_res)"
   ]
  },
  {
   "cell_type": "code",
   "execution_count": null,
   "metadata": {},
   "outputs": [],
   "source": [
    "y_pred=model.predict(X_test)"
   ]
  },
  {
   "cell_type": "code",
   "execution_count": null,
   "metadata": {},
   "outputs": [],
   "source": [
    "y_pred_proba=model.predict_proba(X_test)\n",
    "y_pred_proba=y_pred_proba[:,1]"
   ]
  },
  {
   "cell_type": "code",
   "execution_count": null,
   "metadata": {},
   "outputs": [],
   "source": [
    "print(confusion_matrix(y_test, y_pred))\n",
    "print('G-Mean for classification:',geometric_mean_score(y_test, y_pred))"
   ]
  },
  {
   "cell_type": "code",
   "execution_count": null,
   "metadata": {},
   "outputs": [],
   "source": [
    "np.random.seed(20)\n",
    "precision, recall, thresholds = precision_recall_curve(y_test, y_pred_proba)\n",
    "area=auc(recall, precision)\n",
    "plt.plot(recall, precision)\n",
    "plt.title('Area under precision recall curve='+str(area*100)[:5]+'% for TC-Cyc switch classification')\n",
    "plt.xlabel('recall', fontsize=12) \n",
    "plt.ylabel('precision', fontsize=12) \n",
    "# axis labels\n",
    "plt.savefig(f\"{imagesPath}/precision_recall_curve.pdf\")\n",
    "plt.close()"
   ]
  },
  {
   "cell_type": "markdown",
   "metadata": {},
   "source": [
    "Understand Partial Dependence Plots (PDPs) from the following video:\n",
    "https://www.youtube.com/watch?v=uQQa3wQgG_s&ab_channel=ritvikmath"
   ]
  },
  {
   "cell_type": "code",
   "execution_count": null,
   "metadata": {},
   "outputs": [],
   "source": [
    "df_test=pd.DataFrame(data = X_test, \n",
    "                  columns = df.columns)"
   ]
  },
  {
   "cell_type": "code",
   "execution_count": null,
   "metadata": {
    "scrolled": false
   },
   "outputs": [],
   "source": [
    "for var in df.columns:\n",
    "    p=partial_dependence(model, df_test, [var])\n",
    "    sns.lineplot(x=p['values'][0], y=p['average'][0]/max(abs(p['average'][0])), style=0, markers=True, legend=False)\n",
    "    plt.ylim(-1.02,1.02)\n",
    "    plt.ylabel(\"Partial dependence for feature \"+var)\n",
    "    plt.xlabel(var)\n",
    "    plt.savefig(f\"{imagesPath}/pdp/{safeFilename(var)}.pdf\")\n",
    "    plt.close()"
   ]
  },
  {
   "cell_type": "markdown",
   "metadata": {},
   "source": [
    "## Analysis for implementation of TC"
   ]
  },
  {
   "cell_type": "code",
   "execution_count": null,
   "metadata": {},
   "outputs": [],
   "source": [
    "y_Tacrolimus=data['Tacrolimus Spiegel bei Entlassung (ng/ml)']"
   ]
  },
  {
   "cell_type": "code",
   "execution_count": null,
   "metadata": {},
   "outputs": [],
   "source": [
    "y_Tacrolimus_discretize=[]\n",
    "for i in y_Tacrolimus:\n",
    "    if i==0:\n",
    "        y_Tacrolimus_discretize.append(0)\n",
    "    else:\n",
    "        y_Tacrolimus_discretize.append(1)\n",
    "y_Tacrolimus_discretize=np.array(y_Tacrolimus_discretize)"
   ]
  },
  {
   "cell_type": "code",
   "execution_count": null,
   "metadata": {},
   "outputs": [],
   "source": [
    "np.unique(y_Tacrolimus_discretize, return_counts=True)"
   ]
  },
  {
   "cell_type": "code",
   "execution_count": null,
   "metadata": {},
   "outputs": [],
   "source": [
    "pca = PCA()\n",
    "Xt = pca.fit_transform(X)\n",
    "plot = plt.scatter(Xt[:,0], Xt[:,1], c=y_Tacrolimus_discretize, s=4)\n",
    "plt.savefig(imagesPath + \"/pca_TC.pdf\")\n",
    "plt.close()"
   ]
  },
  {
   "cell_type": "code",
   "execution_count": null,
   "metadata": {},
   "outputs": [],
   "source": [
    "X_train, X_test, y_train, y_test = train_test_split(X, y_Tacrolimus_discretize, test_size=0.30, random_state=42)"
   ]
  },
  {
   "cell_type": "code",
   "execution_count": null,
   "metadata": {},
   "outputs": [],
   "source": [
    "cross_val_GB=cross_val_score(GradientBoostingClassifier(), X_train, y_train, cv=5)"
   ]
  },
  {
   "cell_type": "code",
   "execution_count": null,
   "metadata": {},
   "outputs": [],
   "source": [
    "cross_val_GB"
   ]
  },
  {
   "cell_type": "code",
   "execution_count": null,
   "metadata": {},
   "outputs": [],
   "source": [
    "cross_val_GB.mean()"
   ]
  },
  {
   "cell_type": "code",
   "execution_count": null,
   "metadata": {},
   "outputs": [],
   "source": [
    "cross_val_GB.std()"
   ]
  },
  {
   "cell_type": "code",
   "execution_count": null,
   "metadata": {},
   "outputs": [],
   "source": [
    "model=GradientBoostingClassifier()\n",
    "model.fit(X_train,y_train)"
   ]
  },
  {
   "cell_type": "code",
   "execution_count": null,
   "metadata": {},
   "outputs": [],
   "source": [
    "y_pred=model.predict(X_test)"
   ]
  },
  {
   "cell_type": "code",
   "execution_count": null,
   "metadata": {},
   "outputs": [],
   "source": [
    "y_pred_proba=model.predict_proba(X_test)\n",
    "y_pred_proba=y_pred_proba[:,1]"
   ]
  },
  {
   "cell_type": "code",
   "execution_count": null,
   "metadata": {},
   "outputs": [],
   "source": [
    "print(confusion_matrix(y_test, y_pred))\n",
    "print('G-Mean for classification:',geometric_mean_score(y_test, y_pred))"
   ]
  },
  {
   "cell_type": "code",
   "execution_count": null,
   "metadata": {},
   "outputs": [],
   "source": [
    "np.random.seed(20)\n",
    "fpr, tpr, thresholds = roc_curve(y_test,y_pred_proba)\n",
    "area=roc_auc_score(y_test,y_pred_proba)\n",
    "plt.plot(fpr, tpr)\n",
    "plt.title('Area under ROC curve='+str(area*100)[:5]+'% for classification of patients under TC')\n",
    "plt.xlabel('false positive rate', fontsize=12) \n",
    "plt.ylabel('true positive rate', fontsize=12) \n",
    "# axis labels\n",
    "plt.savefig(imagesPath + \"/roc_curve_TC.pdf\")\n",
    "plt.close()"
   ]
  },
  {
   "cell_type": "code",
   "execution_count": null,
   "metadata": {},
   "outputs": [],
   "source": [
    "k=10 #select top k features\n",
    "top_features=df.columns[model.feature_importances_.argsort()[-k:][::-1]]\n",
    "top_feature_importance_scores=model.feature_importances_[model.feature_importances_.argsort()[-k:][::-1]]"
   ]
  },
  {
   "cell_type": "code",
   "execution_count": null,
   "metadata": {
    "scrolled": false
   },
   "outputs": [],
   "source": [
    "fig, ax7 = plt.subplots()\n",
    "ax7.bar(top_features,top_feature_importance_scores,color=sns.color_palette(\"Set3\"))\n",
    "ax7.tick_params(axis='both', which='major', labelsize=10)\n",
    "plt.xlabel('Top features as per Gradiant Boosting Classifier for classification of patients under TC', fontsize=12)   \n",
    "plt.xticks(rotation=90)\n",
    "plt.savefig(imagesPath + \"/Top features as per Gradiant Boosting Classifier for classification of patients under TC.pdf\")\n",
    "plt.close()"
   ]
  },
  {
   "cell_type": "code",
   "execution_count": null,
   "metadata": {},
   "outputs": [],
   "source": [
    "df_test=pd.DataFrame(data = X_test, \n",
    "                  columns = df.columns)"
   ]
  },
  {
   "cell_type": "code",
   "execution_count": null,
   "metadata": {
    "scrolled": false
   },
   "outputs": [],
   "source": [
    "for var in df.columns:\n",
    "    p=partial_dependence(model, df_test, [var])\n",
    "    sns.lineplot(x=p['values'][0], y=p['average'][0]/max(abs(p['average'][0])), style=0, \n",
    "                 markers=True, legend=False)\n",
    "    plt.ylim(-1.02,1.02)\n",
    "    plt.ylabel(\"Partial dependence for feature \"+var)\n",
    "    plt.xlabel(var)\n",
    "    plt.savefig(f\"{imagesPath}/pdp_TC/{safeFilename(var)}.pdf\")\n",
    "    plt.close()"
   ]
  },
  {
   "cell_type": "markdown",
   "metadata": {},
   "source": [
    "## Analysis for implementation of Cyc"
   ]
  },
  {
   "cell_type": "code",
   "execution_count": null,
   "metadata": {},
   "outputs": [],
   "source": [
    "y_Cyc=data['Cyc Spiegel bei Entlassung (yg/l)']"
   ]
  },
  {
   "cell_type": "code",
   "execution_count": null,
   "metadata": {},
   "outputs": [],
   "source": [
    "y_Cyc_discretize=[]\n",
    "for i in y_Cyc:\n",
    "    if i==0:\n",
    "        y_Cyc_discretize.append(0)\n",
    "    else:\n",
    "        y_Cyc_discretize.append(1)\n",
    "y_Cyc_discretize=np.array(y_Cyc_discretize)"
   ]
  },
  {
   "cell_type": "code",
   "execution_count": null,
   "metadata": {},
   "outputs": [],
   "source": [
    "np.unique(y_Cyc_discretize, return_counts=True)"
   ]
  },
  {
   "cell_type": "code",
   "execution_count": null,
   "metadata": {},
   "outputs": [],
   "source": [
    "X_train, X_test, y_train, y_test = train_test_split(X, y_Cyc_discretize, test_size=0.30, random_state=42)"
   ]
  },
  {
   "cell_type": "code",
   "execution_count": null,
   "metadata": {},
   "outputs": [],
   "source": [
    "cross_val_GB=cross_val_score(GradientBoostingClassifier(), X_train, y_train, cv=5)"
   ]
  },
  {
   "cell_type": "code",
   "execution_count": null,
   "metadata": {},
   "outputs": [],
   "source": [
    "cross_val_GB"
   ]
  },
  {
   "cell_type": "code",
   "execution_count": null,
   "metadata": {},
   "outputs": [],
   "source": [
    "cross_val_GB.std()"
   ]
  },
  {
   "cell_type": "code",
   "execution_count": null,
   "metadata": {},
   "outputs": [],
   "source": [
    "cross_val_GB.mean()"
   ]
  },
  {
   "cell_type": "code",
   "execution_count": null,
   "metadata": {},
   "outputs": [],
   "source": [
    "model=GradientBoostingClassifier(random_state=15)\n",
    "model.fit(X_train,y_train)"
   ]
  },
  {
   "cell_type": "code",
   "execution_count": null,
   "metadata": {},
   "outputs": [],
   "source": [
    "y_pred=model.predict(X_test)"
   ]
  },
  {
   "cell_type": "code",
   "execution_count": null,
   "metadata": {},
   "outputs": [],
   "source": [
    "y_pred_proba=model.predict_proba(X_test)\n",
    "y_pred_proba=y_pred_proba[:,1]"
   ]
  },
  {
   "cell_type": "code",
   "execution_count": null,
   "metadata": {},
   "outputs": [],
   "source": [
    "print(confusion_matrix(y_test, y_pred))\n",
    "print('G-Mean for classification:',geometric_mean_score(y_test, y_pred))"
   ]
  },
  {
   "cell_type": "code",
   "execution_count": null,
   "metadata": {},
   "outputs": [],
   "source": [
    "np.random.seed(20)\n",
    "fpr, tpr, thresholds = roc_curve(y_test,y_pred_proba)\n",
    "area=roc_auc_score(y_test,y_pred_proba)\n",
    "plt.plot(fpr, tpr)\n",
    "plt.title('Area under ROC curve='+str(area*100)[:5]+'% for classification of patients under Cyc')\n",
    "plt.xlabel('false positive rate', fontsize=12) \n",
    "plt.ylabel('true positive rate', fontsize=12)\n",
    "plt.savefig(imagesPath + \"/roc_Cyc.pdf\")\n",
    "plt.close()"
   ]
  },
  {
   "cell_type": "code",
   "execution_count": null,
   "metadata": {},
   "outputs": [],
   "source": [
    "k=10 #select top k features\n",
    "top_features=df.columns[model.feature_importances_.argsort()[-k:][::-1]]\n",
    "top_feature_importance_scores=model.feature_importances_[model.feature_importances_.argsort()[-k:][::-1]]"
   ]
  },
  {
   "cell_type": "code",
   "execution_count": null,
   "metadata": {},
   "outputs": [],
   "source": [
    "fig, ax7 = plt.subplots()\n",
    "ax7.bar(top_features,top_feature_importance_scores,color=sns.color_palette(\"Set3\"))\n",
    "ax7.tick_params(axis='both', which='major', labelsize=10)\n",
    "plt.xlabel('Top features as per Gradiant Boosting Classifier for classification of patients under Cyc', fontsize=12)   \n",
    "plt.xticks(rotation=90)\n",
    "plt.savefig(imagesPath + \"/Top features as per Gradiant Boosting Classifier for classification of patients under Cyc.pdf\")\n",
    "plt.close()"
   ]
  },
  {
   "cell_type": "code",
   "execution_count": null,
   "metadata": {},
   "outputs": [],
   "source": [
    "df_test=pd.DataFrame(data = X_test, \n",
    "                  columns = df.columns)"
   ]
  },
  {
   "cell_type": "code",
   "execution_count": null,
   "metadata": {
    "scrolled": false
   },
   "outputs": [],
   "source": [
    "for var in df.columns:\n",
    "    p=partial_dependence(model, df_test, [var])\n",
    "    sns.lineplot(x=p['values'][0], y=p['average'][0]/max(abs(p['average'][0])), style=0, \n",
    "                 markers=True, legend=False)\n",
    "    plt.ylim(-1.02,1.02)\n",
    "    plt.ylabel(\"Partial dependence for feature \"+var)\n",
    "    plt.xlabel(var)\n",
    "    plt.savefig(f\"{imagesPath}/pdp_Cyc/{safeFilename(var)}.pdf\")\n",
    "    plt.close()"
   ]
  },
  {
   "cell_type": "code",
   "execution_count": null,
   "metadata": {},
   "outputs": [],
   "source": []
  },
  {
   "cell_type": "code",
   "execution_count": null,
   "metadata": {},
   "outputs": [],
   "source": []
  }
 ],
 "metadata": {
  "kernelspec": {
   "display_name": "Python 3 (ipykernel)",
   "language": "python",
   "name": "python3"
  },
  "language_info": {
   "codemirror_mode": {
    "name": "ipython",
    "version": 3
   },
   "file_extension": ".py",
   "mimetype": "text/x-python",
   "name": "python",
   "nbconvert_exporter": "python",
   "pygments_lexer": "ipython3",
   "version": "3.10.10"
  }
 },
 "nbformat": 4,
 "nbformat_minor": 4
}
